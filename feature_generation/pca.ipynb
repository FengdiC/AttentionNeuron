{
 "cells": [
  {
   "cell_type": "code",
   "execution_count": 1,
   "id": "5d1b3baf-5824-4022-9381-051c40c60dfb",
   "metadata": {},
   "outputs": [
    {
     "name": "stdout",
     "output_type": "stream",
     "text": [
      "Requirement already satisfied: pickle5 in /home/haseebs/cmput652/lib/python3.9/site-packages (0.0.11)\n",
      "\u001b[33mWARNING: You are using pip version 20.2.3; however, version 21.3.1 is available.\n",
      "You should consider upgrading via the '/home/haseebs/cmput652/bin/python3 -m pip install --upgrade pip' command.\u001b[0m\n"
     ]
    }
   ],
   "source": [
    "import numpy as np\n",
    "import gc\n",
    "\n",
    "gc.collect()\n",
    "!pip install pickle5\n",
    "import pickle5 as pickle\n",
    "from sklearn.decomposition import PCA"
   ]
  },
  {
   "cell_type": "code",
   "execution_count": 2,
   "id": "8be15473-71dd-4fe2-a24e-3b9fdab95a69",
   "metadata": {},
   "outputs": [
    {
     "data": {
      "text/plain": [
       "0"
      ]
     },
     "execution_count": 2,
     "metadata": {},
     "output_type": "execute_result"
    }
   ],
   "source": [
    "model_name = 'seresnet50'\n",
    "train_file = 'train_features.pkl'\n",
    "test_file = 'test_features.pkl'\n",
    "\n",
    "#model_name = 'resnest50d'\n",
    "#train_file = 'train_features_resnest50d.pkl'\n",
    "#test_file = 'test_features_resnest50d.pkl'\n",
    "\n",
    "image = {\n",
    "    f'{model_name}_s0':[],\n",
    "    f'{model_name}_s1':[],\n",
    "    f'{model_name}_s2':[],\n",
    "    f'{model_name}_s3':[],\n",
    "    f'{model_name}_s4':[],\n",
    "    'label':[]\n",
    "}\n",
    "pca1_list=[]\n",
    "gc.collect()"
   ]
  },
  {
   "cell_type": "code",
   "execution_count": 3,
   "id": "b91e6778-73c2-4601-8328-f9b04af32cae",
   "metadata": {},
   "outputs": [
    {
     "data": {
      "text/plain": [
       "{'seresnet50_s0': [],\n",
       " 'seresnet50_s1': [],\n",
       " 'seresnet50_s2': [],\n",
       " 'seresnet50_s3': [],\n",
       " 'seresnet50_s4': [],\n",
       " 'label': []}"
      ]
     },
     "execution_count": 3,
     "metadata": {},
     "output_type": "execute_result"
    }
   ],
   "source": [
    "image"
   ]
  },
  {
   "cell_type": "code",
   "execution_count": 4,
   "id": "ad4ca18f-0659-4c7e-836b-26ccd5369499",
   "metadata": {},
   "outputs": [],
   "source": [
    "id = dict()\n",
    "f = open(\"../attention-fmri/dataset/image_training_id.csv\")\n",
    "for line in f:\n",
    "    line = line.strip('\\n')\n",
    "    (key, val) = line.split(\",\")\n",
    "    id[val] = key\n",
    "\n",
    "f = open(\"../attention-fmri/dataset/image_test_id.csv\")\n",
    "for line in f:\n",
    "    line = line.strip('\\n')\n",
    "    (key, val) = line.split(\",\")\n",
    "    id[val] = key"
   ]
  },
  {
   "cell_type": "code",
   "execution_count": 5,
   "id": "842b4ce6-07ab-4afd-9178-b311a1dd20b4",
   "metadata": {},
   "outputs": [],
   "source": [
    "f = open(f'../attention-fmri/{train_file}', 'rb')\n",
    "train = pickle.load(f)\n",
    "\n",
    "f = open(f'../attention-fmri/{test_file}', 'rb')\n",
    "test = pickle.load(f)"
   ]
  },
  {
   "cell_type": "code",
   "execution_count": 6,
   "id": "ff366b6d-3afb-49ce-aa6d-906d2a2a5256",
   "metadata": {},
   "outputs": [],
   "source": [
    "# select random 40k features from all the stages so that we can PCA\n",
    "#TODO idxes are not consistent\n",
    "idx = {}\n",
    "for stage in range(5):\n",
    "    one_img = list(train[model_name].keys())[0]\n",
    "    feature_sizes = train[model_name][one_img][stage].flatten().shape\n",
    "    idx[stage] = np.random.choice(np.arange(feature_sizes[0]), size=40000)"
   ]
  },
  {
   "cell_type": "code",
   "execution_count": 7,
   "id": "bb2fd579-b35c-4e43-b9a7-5f053bfd259e",
   "metadata": {},
   "outputs": [
    {
     "name": "stdout",
     "output_type": "stream",
     "text": [
      "done stage:  0\n",
      "done stage:  1\n",
      "done stage:  2\n",
      "done stage:  3\n",
      "done stage:  4\n"
     ]
    }
   ],
   "source": [
    "wrong_data=0\n",
    "for i in range(5):\n",
    "    for key in train[model_name].keys():\n",
    "        feat = train[model_name][key][i].flatten()\n",
    "        image[f'{model_name}_s{i}'].append(feat[idx[i]])\n",
    "        \n",
    "    for key in test[model_name].keys():\n",
    "        feat = test[model_name][key][i].flatten()\n",
    "        image[f'{model_name}_s{i}'].append(feat[idx[i]])\n",
    "        \n",
    "    pca1_list.append(PCA(svd_solver='randomized'))\n",
    "    image[f'{model_name}_s{i}']=list(pca1_list[-1].fit_transform(np.array(image[f'{model_name}_s{i}'], dtype='float32')))\n",
    "    print(\"done stage: \", i)\n",
    "for key in train[model_name].keys():\n",
    "    try:\n",
    "        image['label'].append(id['\"' + key + '\"'])\n",
    "    except KeyError:\n",
    "        print(key)\n",
    "        wrong_data +=1\n",
    "        print(wrong_data)\n",
    "for key in test[model_name].keys():\n",
    "    try:\n",
    "        image['label'].append(id['\"' + key + '\"'])\n",
    "    except KeyError:\n",
    "        print(key)\n",
    "        wrong_data +=1\n",
    "        print(wrong_data)\n",
    "\n",
    "for key in image.keys():\n",
    "    image[key] = np.array(image[key])"
   ]
  },
  {
   "cell_type": "code",
   "execution_count": 8,
   "id": "abf54960-e28c-4c18-9a96-99c3474327df",
   "metadata": {},
   "outputs": [],
   "source": [
    "with open(f'data/pca_features_{model_name}.pkl','wb') as f:\n",
    "    pickle.dump(image,f)"
   ]
  },
  {
   "cell_type": "markdown",
   "id": "8428fdeb-05c1-449c-8488-1a5533fdbd22",
   "metadata": {},
   "source": [
    "idx\n",
    "\n",
    "{0: array([320290, 343979, 754551, ...,  90936, 328603, 156334]),\n",
    " 1: array([498802, 670331, 449771, ..., 246495, 788080, 245192]),\n",
    " 2: array([216183, 136623, 376976, ..., 161072, 149580, 387264]),\n",
    " 3: array([135010,  80134,  20298, ..., 103122,  63368, 195455]),\n",
    " 4: array([95659, 13870, 63392, ..., 42193, 67937, 28169])}"
   ]
  },
  {
   "cell_type": "code",
   "execution_count": 9,
   "id": "2724359f-3406-45c1-817f-829422b2b42c",
   "metadata": {},
   "outputs": [
    {
     "data": {
      "text/plain": [
       "{0: array([554813,  33426,  65248, ..., 664795, 741973, 257719]),\n",
       " 1: array([698249, 660178, 727212, ..., 698622, 537273, 290557]),\n",
       " 2: array([184251, 188872, 350154, ...,  23125,  53738, 208933]),\n",
       " 3: array([191075,  20429,  14526, ..., 146221, 167767, 171582]),\n",
       " 4: array([50051, 76048, 80122, ..., 42592, 55592, 57264])}"
      ]
     },
     "execution_count": 9,
     "metadata": {},
     "output_type": "execute_result"
    }
   ],
   "source": [
    "idx"
   ]
  },
  {
   "cell_type": "code",
   "execution_count": 12,
   "id": "18be90c6-894f-4bc3-bfa1-afaf6f3fb394",
   "metadata": {},
   "outputs": [
    {
     "data": {
      "text/plain": [
       "(1250, 1250)"
      ]
     },
     "execution_count": 12,
     "metadata": {},
     "output_type": "execute_result"
    }
   ],
   "source": [
    "image['seresnet50_s0'].shape"
   ]
  },
  {
   "cell_type": "code",
   "execution_count": null,
   "id": "5ac6a5f2-8954-4cfc-adef-caa77e8e9103",
   "metadata": {},
   "outputs": [],
   "source": []
  }
 ],
 "metadata": {
  "kernelspec": {
   "display_name": "Python 3 (ipykernel)",
   "language": "python",
   "name": "python3"
  },
  "language_info": {
   "codemirror_mode": {
    "name": "ipython",
    "version": 3
   },
   "file_extension": ".py",
   "mimetype": "text/x-python",
   "name": "python",
   "nbconvert_exporter": "python",
   "pygments_lexer": "ipython3",
   "version": "3.9.9"
  }
 },
 "nbformat": 4,
 "nbformat_minor": 5
}
